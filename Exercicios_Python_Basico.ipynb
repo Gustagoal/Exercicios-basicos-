{
  "nbformat": 4,
  "nbformat_minor": 0,
  "metadata": {
    "colab": {
      "provenance": [],
      "authorship_tag": "ABX9TyPZdDIDsjOUwdlwXtgFu15L",
      "include_colab_link": true
    },
    "kernelspec": {
      "name": "python3",
      "display_name": "Python 3"
    },
    "language_info": {
      "name": "python"
    }
  },
  "cells": [
    {
      "cell_type": "markdown",
      "metadata": {
        "id": "view-in-github",
        "colab_type": "text"
      },
      "source": [
        "<a href=\"https://colab.research.google.com/github/Gustagoal/Exercicios-basicos-/blob/main/Exercicios_Python_Basico.ipynb\" target=\"_parent\"><img src=\"https://colab.research.google.com/assets/colab-badge.svg\" alt=\"Open In Colab\"/></a>"
      ]
    },
    {
      "cell_type": "code",
      "execution_count": null,
      "metadata": {
        "id": "fzYSZYFO675z"
      },
      "outputs": [],
      "source": [
        "\"\"\"Fundamentos de Python\n",
        "\n",
        "Tópicos: Sintaxe, variáveis, tipos de dados, entrada e saída, operadores.\n",
        "Exercício: Escreva um programa que peça ao usuário um número e imprima o quadrado desse número.\n",
        "Exemplo de entrada: 5\n",
        "Exemplo de saída: 25\"\"\"\n",
        "\n",
        "numero = int(input(\"Insira um numero para calcular o quadrado : \"))\n",
        "print(numero*numero)"
      ]
    },
    {
      "cell_type": "code",
      "source": [
        "\"\"\"Exercício: Crie um programa que liste todos os números pares entre 1 e 20.\n",
        "Exemplo de saída: 2, 4, 6, 8, ... 20\"\"\"\n",
        "\n",
        "\n",
        "for i in range(1,21):\n",
        "  if i % 2 == 0 :\n",
        "    print(i,end=\" \")\n",
        "\n"
      ],
      "metadata": {
        "id": "BIm2Qb6C9nuT"
      },
      "execution_count": null,
      "outputs": []
    },
    {
      "cell_type": "code",
      "source": [
        "\"\"\"Exercício: Faça uma função que receba dois números e retorne o maior deles.\n",
        "Exemplo de entrada: 3, 7\n",
        "Exemplo de saída: 7\"\"\"\n",
        "\n",
        "\n",
        "def maior(a,b):\n",
        "  print(max(a,b))\n",
        "\n",
        "\n",
        "maior(int(input(\"Digite o 1º numero : \")),\n",
        "      int(input(\"Digite o 2º numero : \")))\n"
      ],
      "metadata": {
        "id": "NKD9ObTfABAL"
      },
      "execution_count": null,
      "outputs": []
    },
    {
      "cell_type": "code",
      "source": [
        "\"\"\"Exercício: Escreva um programa que conte quantas vezes cada palavra aparece em uma lista de palavras.\n",
        "Exemplo de entrada: ['banana', 'maçã', 'banana', 'laranja']\n",
        "Exemplo de saída: {'banana': 2, 'maçã': 1, 'laranja': 1}\"\"\"\n",
        "\n",
        "lista = ['banana', 'maçã', 'banana', 'laranja',\"limão\",\"laranja\"]\n",
        "\n",
        "for i in lista:\n",
        "  contar_lista = lista.count(i)\n",
        "  print(f\"{i} apareceu {contar_lista} vezes\")\n",
        "\n",
        "\n",
        "\n"
      ],
      "metadata": {
        "id": "EuowtlnlAvtq"
      },
      "execution_count": null,
      "outputs": []
    },
    {
      "cell_type": "code",
      "source": [
        "\"\"\"Exercício: Crie um programa que inverta uma string fornecida pelo usuário.\n",
        "Exemplo de entrada: Python\n",
        "Exemplo de saída: nohtyP\"\"\"\n",
        "\n",
        "\n",
        "palavra =  \"Python\" #str(input(\"Digite uma palavra para inverter : \"))\n",
        "\n",
        "print(palavra[::-1])"
      ],
      "metadata": {
        "id": "6EJOGN3XEeYZ"
      },
      "execution_count": null,
      "outputs": []
    },
    {
      "cell_type": "code",
      "source": [
        "\"\"\"Exercício: Escreva um programa que leia um arquivo e conte quantas linhas ele possui.\n",
        "Exemplo de saída: O arquivo tem 10 linhas.\"\"\"\n",
        "\n",
        "with open(\"/content/teste.txt.txt\",\"r\") as arquivo:\n",
        "  linhas = arquivo.readlines()\n",
        "print(f\"O numero de linhas foi de {len(linhas)}\")\n",
        "\n",
        "\n",
        "\n"
      ],
      "metadata": {
        "colab": {
          "base_uri": "https://localhost:8080/"
        },
        "id": "b7WwyL_MGTYq",
        "outputId": "6600fd6e-6232-40eb-e458-a5192bd35384"
      },
      "execution_count": null,
      "outputs": [
        {
          "output_type": "stream",
          "name": "stdout",
          "text": [
            "O numero de linhas foi de 8\n"
          ]
        }
      ]
    },
    {
      "cell_type": "code",
      "source": [
        "\"\"\"Exercício: Crie uma classe Carro com atributos marca e ano e um método que imprima \"Este carro é da marca X do ano Y\".\n",
        "Exemplo de saída: Este carro é da marca Toyota do ano 2020.\"\"\"\n",
        "\n",
        "class Carro():\n",
        "  def __init__(self,marca,ano):\n",
        "    self.marca = marca\n",
        "    self.ano = ano\n",
        "\n",
        "\n",
        "carro = Carro(input(\"Digite a marca : \")\n",
        ",int(input(\"Digite o ano : \")))\n",
        "\n",
        "print(f\"O carro é da {carro.marca} e do ano {carro.ano}\")"
      ],
      "metadata": {
        "id": "7wVczgqAImoJ"
      },
      "execution_count": null,
      "outputs": []
    },
    {
      "cell_type": "code",
      "source": [
        "\"\"\"Exercício: Use a biblioteca math para calcular o fatorial de um número fornecido pelo usuário.\n",
        "Exemplo de entrada: 5\n",
        "Exemplo de saída: 120\"\"\"\n",
        "\n",
        "import math\n",
        "\n",
        "numero = int(input(\"Digite um número para calcular o fatorial : \"))\n",
        "\n",
        "print(math.factorial(numero))"
      ],
      "metadata": {
        "id": "frbeaQDqIoMB"
      },
      "execution_count": null,
      "outputs": []
    },
    {
      "cell_type": "code",
      "source": [
        "from logging import exception\n",
        "\"\"\"Exercício: Faça um programa que peça dois números e divida o primeiro pelo segundo, tratando o erro caso o segundo número seja zero.\n",
        "Exemplo de entrada: 10, 0\n",
        "Exemplo de saída: Erro: Divisão por zero não permitida.\"\"\"\n",
        "\n",
        "n1 = int(input(\"Digite o 1º número : \"))\n",
        "n2 = int(input(\"Digite o 2º número : \"))\n",
        "\n",
        "try:\n",
        "  divisao = n1/n2\n",
        "  print(divisao)\n",
        "except Exception as e:\n",
        "  if n2 == 0:\n",
        "    print(\"Erro divisão por 0 não permitida\")\n",
        "    print(f\"Erro {e}\")"
      ],
      "metadata": {
        "id": "bk_pQ3KEJTxZ"
      },
      "execution_count": null,
      "outputs": []
    },
    {
      "cell_type": "code",
      "source": [
        "\"\"\"Exercício: Crie um programa que leia uma planilha Excel e calcule a soma de uma coluna de números.\n",
        "Exemplo de saída: A soma da coluna é 150.\"\"\"\n",
        "\n",
        "import pandas as pd\n",
        "\n",
        "tabela = pd.read_excel(\"bd_vendas.xlsx\")\n",
        "soma = tabela['Preco Unit'].sum()\n",
        "\n",
        "print(f\"R$ {soma:,.2f}\")\n",
        "\n"
      ],
      "metadata": {
        "id": "xyPutYgtKoxx"
      },
      "execution_count": null,
      "outputs": []
    }
  ]
}